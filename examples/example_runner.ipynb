{
 "cells": [
  {
   "cell_type": "code",
   "execution_count": null,
   "id": "fa1dccd3",
   "metadata": {},
   "outputs": [],
   "source": [
    "import nasbench301"
   ]
  },
  {
   "cell_type": "code",
   "execution_count": null,
   "id": "f8b1a922",
   "metadata": {},
   "outputs": [],
   "source": [
    "from naslib.search_spaces import NasBench101SearchSpace, NasBench201SearchSpace, \\\n",
    "DartsSearchSpace, NasBenchNLPSearchSpace"
   ]
  },
  {
   "cell_type": "code",
   "execution_count": null,
   "id": "7ca643e0",
   "metadata": {},
   "outputs": [],
   "source": [
    "import logging\n",
    "import sys\n",
    "from nasbench import api\n",
    "\n",
    "from naslib.defaults.trainer import Trainer\n",
    "from naslib.optimizers import RandomSearch, Npenas, \\\n",
    "RegularizedEvolution, LocalSearch, Bananas, BasePredictor"
   ]
  },
  {
   "cell_type": "code",
   "execution_count": null,
   "id": "fddc6175",
   "metadata": {},
   "outputs": [],
   "source": [
    "config = utils.get_config_from_args(config_type='nas')\n",
    "\n",
    "logger = setup_logger(config.save + \"/log.log\")\n",
    "logger.setLevel(logging.INFO)\n",
    "\n",
    "utils.log_args(config)\n",
    "\n",
    "supported_optimizers = {\n",
    "    'rs': RandomSearch(config),\n",
    "    're': RegularizedEvolution(config),\n",
    "    'bananas': Bananas(config),\n",
    "    'npenas': Npenas(config),\n",
    "    'ls': LocalSearch(config),\n",
    "}\n",
    "\n",
    "supported_search_spaces = {\n",
    "    'nasbench101': NasBench101SearchSpace(),\n",
    "    'nasbench201': NasBench201SearchSpace(),\n",
    "    'darts': DartsSearchSpace(),\n",
    "    'nlp': NasBenchNLPSearchSpace(),\n",
    "}"
   ]
  }
 ],
 "metadata": {
  "kernelspec": {
   "display_name": "Python 3",
   "language": "python",
   "name": "python3"
  },
  "language_info": {
   "codemirror_mode": {
    "name": "ipython",
    "version": 3
   },
   "file_extension": ".py",
   "mimetype": "text/x-python",
   "name": "python",
   "nbconvert_exporter": "python",
   "pygments_lexer": "ipython3",
   "version": "3.7.10"
  }
 },
 "nbformat": 4,
 "nbformat_minor": 5
}
